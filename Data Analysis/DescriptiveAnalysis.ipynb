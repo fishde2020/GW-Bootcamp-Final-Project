{
 "cells": [
  {
   "cell_type": "code",
   "execution_count": 1,
   "id": "a1301302",
   "metadata": {},
   "outputs": [],
   "source": [
    "import numpy as np\n",
    "import csv\n",
    "import pandas as pd\n",
    "from pathlib import Path"
   ]
  },
  {
   "cell_type": "code",
   "execution_count": 2,
   "id": "1d2a7f1c",
   "metadata": {},
   "outputs": [
    {
     "data": {
      "text/html": [
       "<div>\n",
       "<style scoped>\n",
       "    .dataframe tbody tr th:only-of-type {\n",
       "        vertical-align: middle;\n",
       "    }\n",
       "\n",
       "    .dataframe tbody tr th {\n",
       "        vertical-align: top;\n",
       "    }\n",
       "\n",
       "    .dataframe thead th {\n",
       "        text-align: right;\n",
       "    }\n",
       "</style>\n",
       "<table border=\"1\" class=\"dataframe\">\n",
       "  <thead>\n",
       "    <tr style=\"text-align: right;\">\n",
       "      <th></th>\n",
       "      <th>Unnamed: 0</th>\n",
       "      <th>ID</th>\n",
       "      <th>AreaName</th>\n",
       "      <th>VicAge</th>\n",
       "      <th>VicSex</th>\n",
       "      <th>VicRace</th>\n",
       "      <th>StatusCode</th>\n",
       "      <th>Lat</th>\n",
       "      <th>Lon</th>\n",
       "      <th>CrimeType</th>\n",
       "      <th>AgeGroup</th>\n",
       "      <th>AddressType</th>\n",
       "      <th>Arrest</th>\n",
       "    </tr>\n",
       "  </thead>\n",
       "  <tbody>\n",
       "    <tr>\n",
       "      <th>0</th>\n",
       "      <td>0</td>\n",
       "      <td>190326475</td>\n",
       "      <td>Wilshire</td>\n",
       "      <td>999</td>\n",
       "      <td>M</td>\n",
       "      <td>Multiracial</td>\n",
       "      <td>AA</td>\n",
       "      <td>34.0375</td>\n",
       "      <td>-118.3506</td>\n",
       "      <td>Theft</td>\n",
       "      <td>Unknown</td>\n",
       "      <td>Public Space</td>\n",
       "      <td>Yes</td>\n",
       "    </tr>\n",
       "    <tr>\n",
       "      <th>1</th>\n",
       "      <td>1</td>\n",
       "      <td>200106753</td>\n",
       "      <td>Central</td>\n",
       "      <td>47</td>\n",
       "      <td>M</td>\n",
       "      <td>Multiracial</td>\n",
       "      <td>IC</td>\n",
       "      <td>34.0444</td>\n",
       "      <td>-118.2628</td>\n",
       "      <td>Theft</td>\n",
       "      <td>40-54</td>\n",
       "      <td>Public Space</td>\n",
       "      <td>No</td>\n",
       "    </tr>\n",
       "    <tr>\n",
       "      <th>2</th>\n",
       "      <td>2</td>\n",
       "      <td>200320258</td>\n",
       "      <td>Southwest</td>\n",
       "      <td>19</td>\n",
       "      <td>NaN</td>\n",
       "      <td></td>\n",
       "      <td>IC</td>\n",
       "      <td>34.0210</td>\n",
       "      <td>-118.3002</td>\n",
       "      <td>Theft</td>\n",
       "      <td>Young Adult</td>\n",
       "      <td>Residential</td>\n",
       "      <td>No</td>\n",
       "    </tr>\n",
       "    <tr>\n",
       "      <th>3</th>\n",
       "      <td>3</td>\n",
       "      <td>200907217</td>\n",
       "      <td>Van Nuys</td>\n",
       "      <td>19</td>\n",
       "      <td>M</td>\n",
       "      <td>Multiracial</td>\n",
       "      <td>IC</td>\n",
       "      <td>34.1576</td>\n",
       "      <td>-118.4387</td>\n",
       "      <td>Theft</td>\n",
       "      <td>Young Adult</td>\n",
       "      <td>Buisness</td>\n",
       "      <td>No</td>\n",
       "    </tr>\n",
       "    <tr>\n",
       "      <th>4</th>\n",
       "      <td>4</td>\n",
       "      <td>220614831</td>\n",
       "      <td>Hollywood</td>\n",
       "      <td>28</td>\n",
       "      <td>M</td>\n",
       "      <td>Hispanic</td>\n",
       "      <td>IC</td>\n",
       "      <td>34.0944</td>\n",
       "      <td>-118.3277</td>\n",
       "      <td>Theft</td>\n",
       "      <td>25-39</td>\n",
       "      <td>Public Space</td>\n",
       "      <td>No</td>\n",
       "    </tr>\n",
       "  </tbody>\n",
       "</table>\n",
       "</div>"
      ],
      "text/plain": [
       "   Unnamed: 0         ID   AreaName  VicAge VicSex      VicRace StatusCode  \\\n",
       "0           0  190326475   Wilshire     999      M  Multiracial         AA   \n",
       "1           1  200106753    Central      47      M  Multiracial         IC   \n",
       "2           2  200320258  Southwest      19    NaN                      IC   \n",
       "3           3  200907217   Van Nuys      19      M  Multiracial         IC   \n",
       "4           4  220614831  Hollywood      28      M     Hispanic         IC   \n",
       "\n",
       "       Lat       Lon CrimeType     AgeGroup   AddressType Arrest  \n",
       "0  34.0375 -118.3506     Theft      Unknown  Public Space    Yes  \n",
       "1  34.0444 -118.2628     Theft        40-54  Public Space     No  \n",
       "2  34.0210 -118.3002     Theft  Young Adult   Residential     No  \n",
       "3  34.1576 -118.4387     Theft  Young Adult      Buisness     No  \n",
       "4  34.0944 -118.3277     Theft        25-39  Public Space     No  "
      ]
     },
     "execution_count": 2,
     "metadata": {},
     "output_type": "execute_result"
    }
   ],
   "source": [
    "# Read the CSV file from the Resources folder into a Pandas DataFrame\n",
    "\n",
    "df= pd.read_csv(r'C:\\Users\\dkrenn\\Desktop\\GW-Bootcamp-Final-Project\\Data Analysis\\Resources\\cleaned_data.csv')\n",
    "df.head()\n",
    "\n"
   ]
  },
  {
   "cell_type": "code",
   "execution_count": 3,
   "id": "b5de3672",
   "metadata": {},
   "outputs": [
    {
     "data": {
      "text/plain": [
       "883987"
      ]
     },
     "execution_count": 3,
     "metadata": {},
     "output_type": "execute_result"
    }
   ],
   "source": [
    "# Determine List Length\n",
    "len(df)\n"
   ]
  },
  {
   "cell_type": "code",
   "execution_count": 36,
   "id": "9b383a32",
   "metadata": {},
   "outputs": [
    {
     "data": {
      "text/plain": [
       "AreaName\n",
       "77th Street    6.272717\n",
       "Central        6.801344\n",
       "Devonshire     4.069856\n",
       "Foothill       3.315094\n",
       "Harbor         4.120196\n",
       "Hollenbeck     3.732295\n",
       "Hollywood      5.266820\n",
       "Mission        3.982185\n",
       "N Hollywood    5.007200\n",
       "Newton         5.001657\n",
       "Northeast      4.300855\n",
       "Olympic        5.047699\n",
       "Pacific        5.828140\n",
       "Rampart        4.710929\n",
       "Southeast      5.056183\n",
       "Southwest      5.610716\n",
       "Topanga        4.084902\n",
       "Van Nuys       4.225288\n",
       "West LA        4.580950\n",
       "West Valley    4.203342\n",
       "Wilshire       4.781631\n",
       "Name: Area Percentage, dtype: float64"
      ]
     },
     "execution_count": 36,
     "metadata": {},
     "output_type": "execute_result"
    }
   ],
   "source": [
    "# Area Frequency Percentages\n",
    "area= df.groupby([\"AreaName\"])\n",
    "area_df=area.count()\n",
    "area_df[\"ID\"]=883987\n",
    "area_df= area_df[[\"ID\", \"VicAge\"]]\n",
    "area_df[\"Area Percentage\"]=area_df[\"VicAge\"]/area_df[\"ID\"]*100\n",
    "area_df= area_df[\"Area Percentage\"]\n",
    "area_df"
   ]
  },
  {
   "cell_type": "code",
   "execution_count": 37,
   "id": "010e307f",
   "metadata": {},
   "outputs": [
    {
     "data": {
      "text/plain": [
       "VicRace\n",
       "                9.929784\n",
       "AANHPI          3.925171\n",
       "AIAN            0.095024\n",
       "Black          14.120117\n",
       "Hispanic       30.514363\n",
       "Multiracial     7.908148\n",
       "White          20.264212\n",
       "Name: Race Percentage, dtype: float64"
      ]
     },
     "execution_count": 37,
     "metadata": {},
     "output_type": "execute_result"
    }
   ],
   "source": [
    "# Race Percentages\n",
    "race= df.groupby([\"VicRace\"])\n",
    "race_df=race.count()\n",
    "race_df= race_df[[\"ID\"]]\n",
    "race_df[\"Race Percentage\"]=race_df[\"ID\"]/883987*100\n",
    "race_df= race_df[\"Race Percentage\"]\n",
    "race_df"
   ]
  },
  {
   "cell_type": "code",
   "execution_count": 39,
   "id": "4b1297ce",
   "metadata": {},
   "outputs": [
    {
     "data": {
      "text/plain": [
       "AgeGroup\n",
       "25-39          30.068315\n",
       "40-54          18.844734\n",
       "55-69          10.640994\n",
       "Child           0.546049\n",
       "Senior 70+      3.226179\n",
       "Teen            2.715877\n",
       "Unknown        25.050821\n",
       "Young Adult     8.907031\n",
       "Name: Age Percentage, dtype: float64"
      ]
     },
     "execution_count": 39,
     "metadata": {},
     "output_type": "execute_result"
    }
   ],
   "source": [
    "# Age Percentages\n",
    "age=df.groupby([\"AgeGroup\"])\n",
    "age_df=age.count()\n",
    "age_df= age_df[[\"ID\"]]\n",
    "age_df[\"Age Percentage\"]=age_df[\"ID\"]/883987*100\n",
    "age_df= age_df[\"Age Percentage\"]\n",
    "age_df"
   ]
  },
  {
   "cell_type": "code",
   "execution_count": 49,
   "id": "b6e53c19",
   "metadata": {},
   "outputs": [
    {
     "data": {
      "text/plain": [
       "39.57447463628666"
      ]
     },
     "execution_count": 49,
     "metadata": {},
     "output_type": "execute_result"
    }
   ],
   "source": [
    "# Average Age\n",
    "avgage_df=df.loc[df[\"VicAge\"]<999]\n",
    "avgage_df[\"VicAge\"].mean()"
   ]
  },
  {
   "cell_type": "code",
   "execution_count": 40,
   "id": "827fdff4",
   "metadata": {},
   "outputs": [
    {
     "data": {
      "text/plain": [
       "VicSex\n",
       "F    36.639792\n",
       "M    41.093364\n",
       "Name: Gender Percentage, dtype: float64"
      ]
     },
     "execution_count": 40,
     "metadata": {},
     "output_type": "execute_result"
    }
   ],
   "source": [
    "# Gender Percentages\n",
    "gender= df.groupby([\"VicSex\"])\n",
    "gender_df=gender.count()\n",
    "gender_df= gender_df[[\"ID\"]]\n",
    "gender_df[\"Gender Percentage\"]=gender_df[\"ID\"]/883987*100\n",
    "gender_df= gender_df[\"Gender Percentage\"]\n",
    "gender_df"
   ]
  },
  {
   "cell_type": "code",
   "execution_count": 46,
   "id": "7b9ab019",
   "metadata": {},
   "outputs": [
    {
     "data": {
      "text/plain": [
       "CrimeType\n",
       "Assault              24.025693\n",
       "Driving Offense       0.054526\n",
       "Fraud                 1.005332\n",
       "Homicide              0.170251\n",
       "Kidnapping            0.169686\n",
       "Other                10.164063\n",
       "Property Destruct     3.258080\n",
       "Robbery               3.938293\n",
       "Sex Crime             4.253343\n",
       "Theft                52.594552\n",
       "Weapons               0.366182\n",
       "Name: Crime Type Percentage, dtype: float64"
      ]
     },
     "execution_count": 46,
     "metadata": {},
     "output_type": "execute_result"
    }
   ],
   "source": [
    "# Crime Type Percentages\n",
    "crime= df.groupby([\"CrimeType\"])\n",
    "crime_df=crime.count()\n",
    "crime_df= crime_df[[\"ID\"]]\n",
    "crime_df[\"Crime Type Percentage\"]=crime_df[\"ID\"]/883987*100\n",
    "crime_df= crime_df[\"Crime Type Percentage\"]\n",
    "crime_df"
   ]
  },
  {
   "cell_type": "code",
   "execution_count": 47,
   "id": "35e51144",
   "metadata": {},
   "outputs": [
    {
     "data": {
      "text/plain": [
       "AddressType\n",
       "Buisness          14.112877\n",
       "Other              7.006777\n",
       "Public Space      46.016174\n",
       "Public Transit     1.244702\n",
       "Residential       31.619470\n",
       "Name: Location Type Percentage, dtype: float64"
      ]
     },
     "execution_count": 47,
     "metadata": {},
     "output_type": "execute_result"
    }
   ],
   "source": [
    "# Crime Location Percentages\n",
    "address= df.groupby([\"AddressType\"])\n",
    "address_df=address.count()\n",
    "address_df= address_df[[\"ID\"]]\n",
    "address_df[\"Location Type Percentage\"]=address_df[\"ID\"]/883987*100\n",
    "address_df= address_df[\"Location Type Percentage\"]\n",
    "address_df"
   ]
  },
  {
   "cell_type": "code",
   "execution_count": null,
   "id": "082cee01",
   "metadata": {},
   "outputs": [],
   "source": []
  }
 ],
 "metadata": {
  "kernelspec": {
   "display_name": "Python 3 (ipykernel)",
   "language": "python",
   "name": "python3"
  },
  "language_info": {
   "codemirror_mode": {
    "name": "ipython",
    "version": 3
   },
   "file_extension": ".py",
   "mimetype": "text/x-python",
   "name": "python",
   "nbconvert_exporter": "python",
   "pygments_lexer": "ipython3",
   "version": "3.11.5"
  }
 },
 "nbformat": 4,
 "nbformat_minor": 5
}
